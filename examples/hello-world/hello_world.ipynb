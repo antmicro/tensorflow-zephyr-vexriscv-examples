{
 "cells": [
  {
   "cell_type": "markdown",
   "id": "1330e948",
   "metadata": {
    "cell_marker": "\"\"\""
   },
   "source": [
    "![Renode](https://antmicro.com/OpenSource/assets/images/projects/renode.png)\n",
    "<table align=\"left\">\n",
    "  <td>\n",
    "    <a target=\"_blank\" href=\"https://colab.research.google.com/github/antmicro/tensorflow-zephyr-vexriscv-examples/blob/main/examples/hello-world/hello_world.ipynb\"><img src=\"https://www.tensorflow.org/images/colab_logo_32px.png\" />Run in Google Colab</a>\n",
    "  </td>\n",
    "  <td>\n",
    "    <a target=\"_blank\" href=\"https://github.com/antmicro/tensorflow-zephyr-vexriscv-examples/blob/main/examples/hello-world/hello_world.ipynb\"><img src=\"https://www.tensorflow.org/images/GitHub-Mark-32px.png\" />View ipynb on GitHub</a>\n",
    "  </td>\n",
    "  <td>\n",
    "    <a target=\"_blank\" href=\"https://github.com/antmicro/tensorflow-zephyr-vexriscv-examples/blob/main/examples/hello-world/hello_world.py\"><img src=\"https://www.tensorflow.org/images/GitHub-Mark-32px.png\" />View Python source on GitHub</a>\n",
    "  </td>\n",
    "</table>"
   ]
  },
  {
   "cell_type": "markdown",
   "id": "7d503a44",
   "metadata": {
    "cell_marker": "\"\"\""
   },
   "source": [
    "## Install requirements"
   ]
  },
  {
   "cell_type": "code",
   "execution_count": null,
   "id": "e82ff129",
   "metadata": {
    "lines_to_next_cell": 0
   },
   "outputs": [],
   "source": [
    "!pip install -q git+https://github.com/antmicro/pyrenode.git git+https://github.com/antmicro/renode-colab-tools.git\n",
    "!mkdir -p renode && cd renode && wget https://dl.antmicro.com/projects/renode/builds/renode-latest.linux-portable.tar.gz && tar -xzf renode-latest.linux-portable.tar.gz --strip 1\n",
    "!pip install -q -r renode/tests/requirements.txt\n",
    "!git clone --quiet --recurse-submodules https://github.com/antmicro/tensorflow-zephyr-vexriscv-examples.git\n",
    "\n",
    "import os\n",
    "from renode_colab_tools import metrics\n",
    "os.environ['PATH'] = os.getcwd()+\"/renode:\"+os.environ['PATH']\n",
    "os.environ['TENSORFLOW_PATH'] = os.getcwd()+\"/tensorflow-zephyr-vexriscv-examples/tensorflow\"\n",
    "os.environ['ZEPHYR_SDK_INSTALL_DIR'] = \"/opt/zephyr-sdk\"\n",
    "os.environ['ZEPHYR_TOOLCHAIN_VARIANT'] = \"zephyr\""
   ]
  },
  {
   "cell_type": "code",
   "execution_count": null,
   "id": "fbe6c848",
   "metadata": {},
   "outputs": [],
   "source": [
    "!mkdir -p binaries/hello_world && cd binaries/hello_world && wget https://github.com/antmicro/tensorflow-zephyr-vexriscv-examples-binaries/raw/master/hello_world/hello_world_zephyr.elf # fetch prebuilt binaries"
   ]
  },
  {
   "cell_type": "markdown",
   "id": "ed41dc1d",
   "metadata": {
    "cell_marker": "\"\"\",\"\"\""
   },
   "source": [
    "## Run the hello-world example in Renode"
   ]
  },
  {
   "cell_type": "code",
   "execution_count": null,
   "id": "54d40b0d",
   "metadata": {},
   "outputs": [],
   "source": [
    "import time\n",
    "from pyrenode import *\n",
    "shutdown_renode()\n",
    "connect_renode() # this sets up a log file, and clears the simulation (just in case)\n",
    "tell_renode('using sysbus')\n",
    "tell_renode('mach create')\n",
    "tell_renode('machine LoadPlatformDescription @tensorflow-zephyr-vexriscv-examples/examples/litex-vexriscv-tflite.repl')\n",
    "tell_renode('sysbus LoadELF @binaries/hello_world/hello_world_zephyr.elf')\n",
    "\n",
    "tell_renode('uart CreateFileBackend @uart.dump true')\n",
    "tell_renode('logLevel 3')\n",
    "tell_renode('machine EnableProfiler @metrics.dump')\n",
    "tell_renode('s')\n",
    "while not os.path.exists('renode/uart.dump'):\n",
    "  time.sleep(1) #waits for creating uart.dump\n",
    "!timeout 60 tail -c+2 -f renode/uart.dump | sed '/^1$/ q'\n",
    "tell_renode('q')\n",
    "expect_cli('Renode is quitting')\n",
    "time.sleep(1) #wait not to kill Renode forcefully\n",
    "shutdown_renode()"
   ]
  },
  {
   "cell_type": "markdown",
   "id": "35b6eb50",
   "metadata": {
    "cell_marker": "\"\"\",\"\"\""
   },
   "source": [
    "## Renode metrics analysis"
   ]
  },
  {
   "cell_type": "code",
   "execution_count": null,
   "id": "a77309c2",
   "metadata": {},
   "outputs": [],
   "source": [
    "from renode.tools.metrics_analyzer.metrics_parser import MetricsParser\n",
    "metrics.init_notebook_mode(connected=False)\n",
    "parser = MetricsParser('renode/metrics.dump')"
   ]
  },
  {
   "cell_type": "code",
   "execution_count": null,
   "id": "2b422d3d",
   "metadata": {},
   "outputs": [],
   "source": [
    "metrics.configure_plotly_browser_state()\n",
    "metrics.show_executed_instructions(parser)"
   ]
  },
  {
   "cell_type": "code",
   "execution_count": null,
   "id": "91e3a745",
   "metadata": {},
   "outputs": [],
   "source": [
    "metrics.configure_plotly_browser_state()\n",
    "metrics.show_memory_access(parser)"
   ]
  },
  {
   "cell_type": "code",
   "execution_count": null,
   "id": "24b47af0",
   "metadata": {},
   "outputs": [],
   "source": [
    "metrics.configure_plotly_browser_state()\n",
    "metrics.show_exceptions(parser)"
   ]
  },
  {
   "cell_type": "code",
   "execution_count": null,
   "id": "99780294",
   "metadata": {},
   "outputs": [],
   "source": [
    "metrics.configure_plotly_browser_state()\n",
    "metrics.show_peripheral_access(parser)"
   ]
  }
 ],
 "metadata": {
  "jupytext": {
   "cell_metadata_filter": "-all",
   "main_language": "python",
   "notebook_metadata_filter": "-all"
  }
 },
 "nbformat": 4,
 "nbformat_minor": 5
}

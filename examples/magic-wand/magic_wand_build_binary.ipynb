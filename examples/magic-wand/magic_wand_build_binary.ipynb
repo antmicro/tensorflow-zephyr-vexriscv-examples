{
 "cells": [
  {
   "cell_type": "markdown",
   "id": "de956307",
   "metadata": {
    "cell_marker": "\"\"\""
   },
   "source": [
    "![Renode](https://dl.antmicro.com/projects/renode/renode.png)\n",
    "<table align=\"left\">\n",
    "  <td>\n",
    "    <a target=\"_blank\" href=\"https://colab.research.google.com/github/antmicro/tensorflow-zephyr-vexriscv-examples/blob/main/examples/magic-wand/magic_wand_build_binary.ipynb\"><img src=\"https://raw.githubusercontent.com/antmicro/tensorflow-zephyr-vexriscv-examples/main/examples/.static/view-in-colab.png\" />Run in Google Colab</a>\n",
    "  </td>\n",
    "  <td>\n",
    "    <a target=\"_blank\" href=\"https://github.com/antmicro/tensorflow-zephyr-vexriscv-examples/blob/main/examples/magic-wand/magic_wand_build_binary.ipynb\"><img src=\"https://raw.githubusercontent.com/antmicro/tensorflow-zephyr-vexriscv-examples/main/examples/.static/view-ipynb.png\" />View ipynb on GitHub</a>\n",
    "  </td>\n",
    "  <td>\n",
    "    <a target=\"_blank\" href=\"https://github.com/antmicro/tensorflow-zephyr-vexriscv-examples/blob/main/examples/magic-wand/magic_wand.py\"><img src=\"https://raw.githubusercontent.com/antmicro/tensorflow-zephyr-vexriscv-examples/main/examples/.static/view-source.png\" />View Python source on GitHub</a>\n",
    "  </td>\n",
    "</table>"
   ]
  },
  {
   "cell_type": "markdown",
   "id": "24a7a789",
   "metadata": {
    "cell_marker": "\"\"\""
   },
   "source": [
    "## Install requirements"
   ]
  },
  {
   "cell_type": "code",
   "execution_count": null,
   "id": "54a324cf",
   "metadata": {
    "lines_to_next_cell": 0
   },
   "outputs": [],
   "source": [
    "!pip install -q git+https://github.com/antmicro/pyrenode.git git+https://github.com/antmicro/renode-colab-tools.git\n",
    "!mkdir -p renode && cd renode && wget https://dl.antmicro.com/projects/renode/builds/renode-latest.linux-portable.tar.gz && tar -xzf renode-latest.linux-portable.tar.gz --strip 1\n",
    "!pip install -q -r renode/tests/requirements.txt\n",
    "!git clone --quiet --recurse-submodules https://github.com/antmicro/tensorflow-zephyr-vexriscv-examples.git\n",
    "\n",
    "import os\n",
    "from renode_colab_tools import metrics\n",
    "os.environ['PATH'] = os.getcwd()+\"/renode:\"+os.environ['PATH']\n",
    "os.environ['TENSORFLOW_PATH'] = os.getcwd()+\"/tensorflow-zephyr-vexriscv-examples/tensorflow\"\n",
    "os.environ['ZEPHYR_SDK_INSTALL_DIR'] = \"/opt/zephyr-sdk\"\n",
    "os.environ['ZEPHYR_TOOLCHAIN_VARIANT'] = \"zephyr\""
   ]
  },
  {
   "cell_type": "code",
   "execution_count": null,
   "id": "e80765b8",
   "metadata": {
    "lines_to_next_cell": 0
   },
   "outputs": [],
   "source": [
    "!sudo apt update && sudo apt install -y cmake ninja-build gperf ccache dfu-util device-tree-compiler wget python python3-pip python3-setuptools python3-tk python3-wheel xz-utils file make gcc gcc-multilib locales tar curl unzip xxd\n",
    "!pip install --upgrade cmake virtualenv pillow\n",
    "!wget https://github.com/zephyrproject-rtos/sdk-ng/releases/download/v0.11.2/zephyr-sdk-0.11.2-setup.run\n",
    "!chmod +x zephyr-sdk-0.11.2-setup.run\n",
    "!./zephyr-sdk-0.11.2-setup.run -- -y -d $ZEPHYR_SDK_INSTALL_DIR\n",
    "!sudo apt install patchelf -y\n",
    "!sudo patchelf --set-interpreter /lib64/ld-linux-x86-64.so.2 $ZEPHYR_SDK_INSTALL_DIR/sysroots/x86_64-pokysdk-linux/usr/bin/dtc\n",
    "!cd $TENSORFLOW_PATH && make -f tensorflow/lite/micro/tools/make/Makefile TARGET=zephyr_vexriscv magic_wand_bin\n",
    "!mkdir -p binaries/magic_wand && cp $TENSORFLOW_PATH/tensorflow/lite/micro/tools/make/gen/zephyr_vexriscv_x86_64_default/magic_wand/build/zephyr/zephyr.elf binaries/magic_wand/magic_wand_zephyr.elf"
   ]
  },
  {
   "cell_type": "markdown",
   "id": "0a862347",
   "metadata": {},
   "source": [
    "## Run a magic-wand example in Renode"
   ]
  },
  {
   "cell_type": "code",
   "execution_count": null,
   "id": "256ba56b",
   "metadata": {},
   "outputs": [],
   "source": [
    "import time\n",
    "from pyrenode import *\n",
    "shutdown_renode()\n",
    "connect_renode() # this sets up a log file, and clears the simulation (just in case)\n",
    "tell_renode('using sysbus')\n",
    "tell_renode('mach create')\n",
    "tell_renode('machine LoadPlatformDescription @tensorflow-zephyr-vexriscv-examples/examples/litex-vexriscv-tflite.repl')\n",
    "tell_renode('sysbus LoadELF @binaries/magic_wand/magic_wand_zephyr.elf')\n",
    "\n",
    "tell_renode('uart CreateFileBackend @uart.dump true')\n",
    "tell_renode('logLevel 3')\n",
    "tell_renode('machine EnableProfiler \"metrics.dump\"')\n",
    "tell_renode('i2c.adxl345 MaxFifoDepth 1')\n",
    "tell_renode('i2c.adxl345 FeedSample @tensorflow-zephyr-vexriscv-examples/examples/magic-wand/angle.data')\n",
    "tell_renode('s')\n",
    "time.sleep(5) #waits for creating uart.dump\n",
    "!timeout 60 tail -c+2 -f renode/uart.dump | sed '/\\* \\* \\* \\* \\* \\* \\* \\*/ q'\n",
    "tell_renode('q')\n",
    "expect_cli('Renode is quitting')\n",
    "time.sleep(1) #wait not to kill Renode forcefully\n",
    "shutdown_renode()"
   ]
  },
  {
   "cell_type": "markdown",
   "id": "0813fd70",
   "metadata": {},
   "source": [
    "## Renode metrics analysis"
   ]
  },
  {
   "cell_type": "code",
   "execution_count": null,
   "id": "5e9d668f",
   "metadata": {},
   "outputs": [],
   "source": [
    "from renode.tools.metrics_analyzer.metrics_parser import MetricsParser\n",
    "metrics.init_notebook_mode(connected=False)\n",
    "parser = MetricsParser('renode/metrics.dump')"
   ]
  },
  {
   "cell_type": "code",
   "execution_count": null,
   "id": "d73f2223",
   "metadata": {},
   "outputs": [],
   "source": [
    "metrics.configure_plotly_browser_state()\n",
    "metrics.show_executed_instructions(parser)"
   ]
  },
  {
   "cell_type": "code",
   "execution_count": null,
   "id": "c212aa75",
   "metadata": {},
   "outputs": [],
   "source": [
    "metrics.configure_plotly_browser_state()\n",
    "metrics.show_memory_access(parser)"
   ]
  },
  {
   "cell_type": "code",
   "execution_count": null,
   "id": "53a86f29",
   "metadata": {},
   "outputs": [],
   "source": [
    "metrics.configure_plotly_browser_state()\n",
    "metrics.show_exceptions(parser)"
   ]
  },
  {
   "cell_type": "code",
   "execution_count": null,
   "id": "9d672d59",
   "metadata": {},
   "outputs": [],
   "source": [
    "metrics.configure_plotly_browser_state()\n",
    "metrics.show_peripheral_access(parser)"
   ]
  }
 ],
 "metadata": {
  "jupytext": {
   "cell_metadata_filter": "-all",
   "main_language": "python",
   "notebook_metadata_filter": "-all"
  }
 },
 "nbformat": 4,
 "nbformat_minor": 5
}
